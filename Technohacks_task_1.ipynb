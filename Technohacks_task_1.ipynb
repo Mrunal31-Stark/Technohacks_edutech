{
 "cells": [
  {
   "cell_type": "code",
   "execution_count": 1,
   "id": "bafb6d42-bfaa-477d-a6e3-dba805ad5de8",
   "metadata": {},
   "outputs": [],
   "source": [
    "# Import necessary libraries\n",
    "import numpy as np\n",
    "import pandas as pd\n",
    "from sklearn.model_selection import train_test_split\n",
    "from sklearn.preprocessing import StandardScaler\n",
    "from sklearn.linear_model import LinearRegression\n",
    "from sklearn.metrics import mean_squared_error, r2_score\n",
    "\n"
   ]
  },
  {
   "cell_type": "markdown",
   "id": "77d55d64-a876-4ae2-b6a5-67a559f09b60",
   "metadata": {},
   "source": [
    "# Load your dataset"
   ]
  },
  {
   "cell_type": "code",
   "execution_count": 2,
   "id": "c510becb-e55e-4c24-93bc-aaf886c25e91",
   "metadata": {},
   "outputs": [
    {
     "name": "stdout",
     "output_type": "stream",
     "text": [
      "           id             date     price  bedrooms  bathrooms  sqft_living  \\\n",
      "0  7129300520  20141013T000000  221900.0         3       1.00         1180   \n",
      "1  6414100192  20141209T000000  538000.0         3       2.25         2570   \n",
      "2  5631500400  20150225T000000  180000.0         2       1.00          770   \n",
      "3  2487200875  20141209T000000  604000.0         4       3.00         1960   \n",
      "4  1954400510  20150218T000000  510000.0         3       2.00         1680   \n",
      "\n",
      "   sqft_lot  floors  waterfront  view  ...  grade  sqft_above  sqft_basement  \\\n",
      "0      5650     1.0           0     0  ...      7        1180              0   \n",
      "1      7242     2.0           0     0  ...      7        2170            400   \n",
      "2     10000     1.0           0     0  ...      6         770              0   \n",
      "3      5000     1.0           0     0  ...      7        1050            910   \n",
      "4      8080     1.0           0     0  ...      8        1680              0   \n",
      "\n",
      "   yr_built  yr_renovated  zipcode      lat     long  sqft_living15  \\\n",
      "0      1955             0    98178  47.5112 -122.257           1340   \n",
      "1      1951          1991    98125  47.7210 -122.319           1690   \n",
      "2      1933             0    98028  47.7379 -122.233           2720   \n",
      "3      1965             0    98136  47.5208 -122.393           1360   \n",
      "4      1987             0    98074  47.6168 -122.045           1800   \n",
      "\n",
      "   sqft_lot15  \n",
      "0        5650  \n",
      "1        7639  \n",
      "2        8062  \n",
      "3        5000  \n",
      "4        7503  \n",
      "\n",
      "[5 rows x 21 columns]\n"
     ]
    }
   ],
   "source": [
    "df = pd.read_csv(\"C:/Users/Acer/Downloads/archive (19)/kc_house_data.csv\")\n",
    "\n",
    "# Display the first few rows of the dataset to understand its structure\n",
    "print(df.head())\n",
    "\n"
   ]
  },
  {
   "cell_type": "markdown",
   "id": "9835d5fe-ae12-42b0-9755-2f3079cd2b70",
   "metadata": {},
   "source": [
    "# Define features and target variable"
   ]
  },
  {
   "cell_type": "code",
   "execution_count": 3,
   "id": "21c91a64-9c3f-40ef-a108-e1d52ea293b3",
   "metadata": {},
   "outputs": [],
   "source": [
    "\n",
    "features = ['bedrooms', 'bathrooms', 'sqft_living', 'sqft_lot', 'floors', 'waterfront', 'view',\n",
    "            'condition', 'grade', 'sqft_above', 'sqft_basement', 'yr_built', 'yr_renovated',\n",
    "            'zipcode', 'lat', 'long', 'sqft_living15', 'sqft_lot15']\n",
    "target = 'price'\n"
   ]
  },
  {
   "cell_type": "markdown",
   "id": "d6944aee-a0fe-4751-a412-4492ceb371ad",
   "metadata": {},
   "source": [
    "# Split the data into training and testing sets"
   ]
  },
  {
   "cell_type": "code",
   "execution_count": 4,
   "id": "cd2d421f-816c-42a7-bb85-86bfee02e2f4",
   "metadata": {},
   "outputs": [],
   "source": [
    "\n",
    "X = df[features]\n",
    "y = df[target]\n",
    "\n",
    "\n",
    "X_train, X_test, y_train, y_test = train_test_split(X, y, test_size=0.2, random_state=42)\n",
    "\n"
   ]
  },
  {
   "cell_type": "markdown",
   "id": "40871fb1-75d4-4ad0-88ab-6fbb4d98dae6",
   "metadata": {},
   "source": [
    "# Standardize the features"
   ]
  },
  {
   "cell_type": "code",
   "execution_count": 5,
   "id": "bcd8a949-2300-4b33-8d40-3b9fa53a71c2",
   "metadata": {},
   "outputs": [],
   "source": [
    "\n",
    "scaler = StandardScaler()\n",
    "X_train = scaler.fit_transform(X_train)\n",
    "X_test = scaler.transform(X_test)\n",
    "\n"
   ]
  },
  {
   "cell_type": "markdown",
   "id": "a20d75f8-20bf-41bc-b0dd-a403966504d4",
   "metadata": {},
   "source": [
    "# Initialize and train the Linear Regression model"
   ]
  },
  {
   "cell_type": "code",
   "execution_count": 6,
   "id": "db95604b-915a-4889-b250-d0a150b02618",
   "metadata": {},
   "outputs": [
    {
     "data": {
      "text/html": [
       "<style>#sk-container-id-1 {color: black;}#sk-container-id-1 pre{padding: 0;}#sk-container-id-1 div.sk-toggleable {background-color: white;}#sk-container-id-1 label.sk-toggleable__label {cursor: pointer;display: block;width: 100%;margin-bottom: 0;padding: 0.3em;box-sizing: border-box;text-align: center;}#sk-container-id-1 label.sk-toggleable__label-arrow:before {content: \"▸\";float: left;margin-right: 0.25em;color: #696969;}#sk-container-id-1 label.sk-toggleable__label-arrow:hover:before {color: black;}#sk-container-id-1 div.sk-estimator:hover label.sk-toggleable__label-arrow:before {color: black;}#sk-container-id-1 div.sk-toggleable__content {max-height: 0;max-width: 0;overflow: hidden;text-align: left;background-color: #f0f8ff;}#sk-container-id-1 div.sk-toggleable__content pre {margin: 0.2em;color: black;border-radius: 0.25em;background-color: #f0f8ff;}#sk-container-id-1 input.sk-toggleable__control:checked~div.sk-toggleable__content {max-height: 200px;max-width: 100%;overflow: auto;}#sk-container-id-1 input.sk-toggleable__control:checked~label.sk-toggleable__label-arrow:before {content: \"▾\";}#sk-container-id-1 div.sk-estimator input.sk-toggleable__control:checked~label.sk-toggleable__label {background-color: #d4ebff;}#sk-container-id-1 div.sk-label input.sk-toggleable__control:checked~label.sk-toggleable__label {background-color: #d4ebff;}#sk-container-id-1 input.sk-hidden--visually {border: 0;clip: rect(1px 1px 1px 1px);clip: rect(1px, 1px, 1px, 1px);height: 1px;margin: -1px;overflow: hidden;padding: 0;position: absolute;width: 1px;}#sk-container-id-1 div.sk-estimator {font-family: monospace;background-color: #f0f8ff;border: 1px dotted black;border-radius: 0.25em;box-sizing: border-box;margin-bottom: 0.5em;}#sk-container-id-1 div.sk-estimator:hover {background-color: #d4ebff;}#sk-container-id-1 div.sk-parallel-item::after {content: \"\";width: 100%;border-bottom: 1px solid gray;flex-grow: 1;}#sk-container-id-1 div.sk-label:hover label.sk-toggleable__label {background-color: #d4ebff;}#sk-container-id-1 div.sk-serial::before {content: \"\";position: absolute;border-left: 1px solid gray;box-sizing: border-box;top: 0;bottom: 0;left: 50%;z-index: 0;}#sk-container-id-1 div.sk-serial {display: flex;flex-direction: column;align-items: center;background-color: white;padding-right: 0.2em;padding-left: 0.2em;position: relative;}#sk-container-id-1 div.sk-item {position: relative;z-index: 1;}#sk-container-id-1 div.sk-parallel {display: flex;align-items: stretch;justify-content: center;background-color: white;position: relative;}#sk-container-id-1 div.sk-item::before, #sk-container-id-1 div.sk-parallel-item::before {content: \"\";position: absolute;border-left: 1px solid gray;box-sizing: border-box;top: 0;bottom: 0;left: 50%;z-index: -1;}#sk-container-id-1 div.sk-parallel-item {display: flex;flex-direction: column;z-index: 1;position: relative;background-color: white;}#sk-container-id-1 div.sk-parallel-item:first-child::after {align-self: flex-end;width: 50%;}#sk-container-id-1 div.sk-parallel-item:last-child::after {align-self: flex-start;width: 50%;}#sk-container-id-1 div.sk-parallel-item:only-child::after {width: 0;}#sk-container-id-1 div.sk-dashed-wrapped {border: 1px dashed gray;margin: 0 0.4em 0.5em 0.4em;box-sizing: border-box;padding-bottom: 0.4em;background-color: white;}#sk-container-id-1 div.sk-label label {font-family: monospace;font-weight: bold;display: inline-block;line-height: 1.2em;}#sk-container-id-1 div.sk-label-container {text-align: center;}#sk-container-id-1 div.sk-container {/* jupyter's `normalize.less` sets `[hidden] { display: none; }` but bootstrap.min.css set `[hidden] { display: none !important; }` so we also need the `!important` here to be able to override the default hidden behavior on the sphinx rendered scikit-learn.org. See: https://github.com/scikit-learn/scikit-learn/issues/21755 */display: inline-block !important;position: relative;}#sk-container-id-1 div.sk-text-repr-fallback {display: none;}</style><div id=\"sk-container-id-1\" class=\"sk-top-container\"><div class=\"sk-text-repr-fallback\"><pre>LinearRegression()</pre><b>In a Jupyter environment, please rerun this cell to show the HTML representation or trust the notebook. <br />On GitHub, the HTML representation is unable to render, please try loading this page with nbviewer.org.</b></div><div class=\"sk-container\" hidden><div class=\"sk-item\"><div class=\"sk-estimator sk-toggleable\"><input class=\"sk-toggleable__control sk-hidden--visually\" id=\"sk-estimator-id-1\" type=\"checkbox\" checked><label for=\"sk-estimator-id-1\" class=\"sk-toggleable__label sk-toggleable__label-arrow\">LinearRegression</label><div class=\"sk-toggleable__content\"><pre>LinearRegression()</pre></div></div></div></div></div>"
      ],
      "text/plain": [
       "LinearRegression()"
      ]
     },
     "execution_count": 6,
     "metadata": {},
     "output_type": "execute_result"
    }
   ],
   "source": [
    "\n",
    "model = LinearRegression()\n",
    "model.fit(X_train, y_train)\n",
    "\n"
   ]
  },
  {
   "cell_type": "markdown",
   "id": "02b90c60-1316-4cb7-89bc-fd022948b5bd",
   "metadata": {},
   "source": [
    "# Make predictions on the test set"
   ]
  },
  {
   "cell_type": "code",
   "execution_count": 7,
   "id": "b587acbb-c42c-40f1-bb67-61fc87285a12",
   "metadata": {},
   "outputs": [],
   "source": [
    "\n",
    "y_pred = model.predict(X_test)\n"
   ]
  },
  {
   "cell_type": "markdown",
   "id": "1b1daf73-7bbd-4e5e-87e8-d825ed573535",
   "metadata": {},
   "source": [
    "# Evaluate the model"
   ]
  },
  {
   "cell_type": "code",
   "execution_count": 8,
   "id": "bf7c1597-682b-43ad-b897-f6117b47dc44",
   "metadata": {},
   "outputs": [
    {
     "name": "stdout",
     "output_type": "stream",
     "text": [
      "Mean Squared Error: 45173046132.79015\n",
      "R^2 Score: 0.7011904448878412\n"
     ]
    }
   ],
   "source": [
    "\n",
    "mse = mean_squared_error(y_test, y_pred)\n",
    "r2 = r2_score(y_test, y_pred)\n",
    "\n",
    "print(f'Mean Squared Error: {mse}')\n",
    "print(f'R^2 Score: {r2}')\n",
    "\n"
   ]
  },
  {
   "cell_type": "markdown",
   "id": "f12e7ea0-365c-46e4-bbff-9d0e5b93c3b2",
   "metadata": {},
   "source": [
    "# Make predictions for a new house"
   ]
  },
  {
   "cell_type": "code",
   "execution_count": 9,
   "id": "ebf2ca7a-a380-4813-a02f-280340acc7a5",
   "metadata": {},
   "outputs": [
    {
     "name": "stdout",
     "output_type": "stream",
     "text": [
      "Predicted Price for the new house: 481856.1825114207\n"
     ]
    },
    {
     "name": "stderr",
     "output_type": "stream",
     "text": [
      "C:\\Users\\Acer\\anaconda3\\Lib\\site-packages\\sklearn\\base.py:465: UserWarning: X does not have valid feature names, but StandardScaler was fitted with feature names\n",
      "  warnings.warn(\n"
     ]
    }
   ],
   "source": [
    "\n",
    "\n",
    "new_house_features = np.array([[3, 2, 2000, 5000, 1, 0, 0, 3, 7, 1800, 200, 1980, 2000, 98001, 47.5112, -122.257, 2000, 5000]])\n",
    "new_house_features = scaler.transform(new_house_features)\n",
    "predicted_price = model.predict(new_house_features)\n",
    "\n",
    "print(f'Predicted Price for the new house: {predicted_price[0]}')\n"
   ]
  },
  {
   "cell_type": "code",
   "execution_count": null,
   "id": "6c8f13f4-0e51-4b49-a2ff-eb7b5ffc395b",
   "metadata": {},
   "outputs": [],
   "source": []
  },
  {
   "cell_type": "code",
   "execution_count": null,
   "id": "c1956878-aa20-43b7-927d-881076e8bdd3",
   "metadata": {},
   "outputs": [],
   "source": []
  },
  {
   "cell_type": "code",
   "execution_count": null,
   "id": "412904c8-d671-40dc-9ed5-1c226f282bef",
   "metadata": {},
   "outputs": [],
   "source": []
  },
  {
   "cell_type": "code",
   "execution_count": null,
   "id": "d4f5cc15-1355-450a-89c2-6dc43e4ad87e",
   "metadata": {},
   "outputs": [],
   "source": []
  },
  {
   "cell_type": "code",
   "execution_count": null,
   "id": "64dfdfda-77da-4785-a71c-4998ed1f8c1a",
   "metadata": {},
   "outputs": [],
   "source": []
  },
  {
   "cell_type": "code",
   "execution_count": null,
   "id": "67dfc012-1443-4af9-a1b1-847e8a8dec78",
   "metadata": {},
   "outputs": [],
   "source": []
  },
  {
   "cell_type": "code",
   "execution_count": null,
   "id": "e4883671-6afb-440c-b5e7-a60833c8db61",
   "metadata": {},
   "outputs": [],
   "source": []
  },
  {
   "cell_type": "code",
   "execution_count": null,
   "id": "1d8df5a0-9f8d-4a31-80cd-d2574a2657e1",
   "metadata": {},
   "outputs": [],
   "source": []
  },
  {
   "cell_type": "code",
   "execution_count": null,
   "id": "33d776f6-520a-467d-828b-c83f1948693c",
   "metadata": {},
   "outputs": [],
   "source": []
  }
 ],
 "metadata": {
  "kernelspec": {
   "display_name": "Python 3 (ipykernel)",
   "language": "python",
   "name": "python3"
  },
  "language_info": {
   "codemirror_mode": {
    "name": "ipython",
    "version": 3
   },
   "file_extension": ".py",
   "mimetype": "text/x-python",
   "name": "python",
   "nbconvert_exporter": "python",
   "pygments_lexer": "ipython3",
   "version": "3.11.3"
  }
 },
 "nbformat": 4,
 "nbformat_minor": 5
}
