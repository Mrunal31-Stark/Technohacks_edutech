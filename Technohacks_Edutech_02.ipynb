{
 "cells": [
  {
   "cell_type": "code",
   "execution_count": 1,
   "id": "1df0bd0a-cdd5-4d1a-a7dd-47fc1a676811",
   "metadata": {},
   "outputs": [],
   "source": [
    "import pandas as pd\n",
    "import nltk\n",
    "from nltk.sentiment.vader import SentimentIntensityAnalyzer\n",
    "\n"
   ]
  },
  {
   "cell_type": "markdown",
   "id": "4d2e120c-55ba-418d-a969-2e098fcbb6b6",
   "metadata": {},
   "source": [
    "# I am using the VADER (Valence Aware Dictionary and sEntiment Reasoner) sentiment analysis tool from the nltk library, which is well-suited for social media text."
   ]
  },
  {
   "cell_type": "code",
   "execution_count": 2,
   "id": "0a16f440-6083-4d5d-a97a-3eb08ce033d3",
   "metadata": {},
   "outputs": [
    {
     "name": "stderr",
     "output_type": "stream",
     "text": [
      "[nltk_data] Downloading package vader_lexicon to\n",
      "[nltk_data]     C:\\Users\\Acer\\AppData\\Roaming\\nltk_data...\n",
      "[nltk_data]   Package vader_lexicon is already up-to-date!\n"
     ]
    },
    {
     "data": {
      "text/plain": [
       "True"
      ]
     },
     "execution_count": 2,
     "metadata": {},
     "output_type": "execute_result"
    }
   ],
   "source": [
    "nltk.download('vader_lexicon')"
   ]
  },
  {
   "cell_type": "markdown",
   "id": "8aa9ddbf-c3ed-4af0-a610-f18e32cfcd02",
   "metadata": {},
   "source": [
    "# Loading the Dataset"
   ]
  },
  {
   "cell_type": "code",
   "execution_count": 3,
   "id": "bfdd1cb1-c2ab-4813-b9fc-7369582927d1",
   "metadata": {},
   "outputs": [
    {
     "name": "stdout",
     "output_type": "stream",
     "text": [
      "             tweet_id airline_sentiment  airline_sentiment_confidence  \\\n",
      "0  570306133677760513           neutral                        1.0000   \n",
      "1  570301130888122368          positive                        0.3486   \n",
      "2  570301083672813571           neutral                        0.6837   \n",
      "3  570301031407624196          negative                        1.0000   \n",
      "4  570300817074462722          negative                        1.0000   \n",
      "\n",
      "  negativereason  negativereason_confidence         airline  \\\n",
      "0            NaN                        NaN  Virgin America   \n",
      "1            NaN                     0.0000  Virgin America   \n",
      "2            NaN                        NaN  Virgin America   \n",
      "3     Bad Flight                     0.7033  Virgin America   \n",
      "4     Can't Tell                     1.0000  Virgin America   \n",
      "\n",
      "  airline_sentiment_gold        name negativereason_gold  retweet_count  \\\n",
      "0                    NaN     cairdin                 NaN              0   \n",
      "1                    NaN    jnardino                 NaN              0   \n",
      "2                    NaN  yvonnalynn                 NaN              0   \n",
      "3                    NaN    jnardino                 NaN              0   \n",
      "4                    NaN    jnardino                 NaN              0   \n",
      "\n",
      "                                                text tweet_coord  \\\n",
      "0                @VirginAmerica What @dhepburn said.         NaN   \n",
      "1  @VirginAmerica plus you've added commercials t...         NaN   \n",
      "2  @VirginAmerica I didn't today... Must mean I n...         NaN   \n",
      "3  @VirginAmerica it's really aggressive to blast...         NaN   \n",
      "4  @VirginAmerica and it's a really big bad thing...         NaN   \n",
      "\n",
      "               tweet_created tweet_location               user_timezone  \n",
      "0  2015-02-24 11:35:52 -0800            NaN  Eastern Time (US & Canada)  \n",
      "1  2015-02-24 11:15:59 -0800            NaN  Pacific Time (US & Canada)  \n",
      "2  2015-02-24 11:15:48 -0800      Lets Play  Central Time (US & Canada)  \n",
      "3  2015-02-24 11:15:36 -0800            NaN  Pacific Time (US & Canada)  \n",
      "4  2015-02-24 11:14:45 -0800            NaN  Pacific Time (US & Canada)  \n"
     ]
    }
   ],
   "source": [
    "df = pd.read_csv(\"C:/Users/Acer/Desktop/Tweets.csv\")\n",
    "print(df.head())"
   ]
  },
  {
   "cell_type": "markdown",
   "id": "c0867da9-93d6-47ac-a1fb-60e22dcc13d6",
   "metadata": {},
   "source": [
    "# Initialize the VADER sentiment intensity analyzer"
   ]
  },
  {
   "cell_type": "code",
   "execution_count": 4,
   "id": "057d916b-4071-43fe-baea-85d003e20573",
   "metadata": {},
   "outputs": [
    {
     "name": "stdout",
     "output_type": "stream",
     "text": [
      "                                                text  sentiment_score  \\\n",
      "0                @VirginAmerica What @dhepburn said.           0.0000   \n",
      "1  @VirginAmerica plus you've added commercials t...           0.0000   \n",
      "2  @VirginAmerica I didn't today... Must mean I n...           0.0000   \n",
      "3  @VirginAmerica it's really aggressive to blast...          -0.5984   \n",
      "4  @VirginAmerica and it's a really big bad thing...          -0.5829   \n",
      "\n",
      "  sentiment  \n",
      "0   neutral  \n",
      "1   neutral  \n",
      "2   neutral  \n",
      "3  negative  \n",
      "4  negative  \n"
     ]
    }
   ],
   "source": [
    "# Initialize VADER sentiment intensity analyzer\n",
    "sid = SentimentIntensityAnalyzer()\n",
    "\n",
    "# Function to analyze sentiment\n",
    "def analyze_sentiment(post):\n",
    "    scores = sid.polarity_scores(post)\n",
    "    return scores['compound']\n",
    "\n",
    "# Apply the function to the dataset\n",
    "df['sentiment_score'] = df['text'].apply(analyze_sentiment)\n",
    "\n",
    "# Classify sentiment based on the compound score\n",
    "df['sentiment'] = df['sentiment_score'].apply(lambda score: 'positive' if score > 0 else ('negative' if score < 0 else 'neutral'))\n",
    "\n",
    "# Display the first few rows with sentiment scores\n",
    "print(df[['text', 'sentiment_score', 'sentiment']].head())\n",
    "\n"
   ]
  },
  {
   "cell_type": "markdown",
   "id": "9859dc35-4ec4-4779-bf67-5f70ef332e34",
   "metadata": {},
   "source": [
    "# Getting the count of overall tweets in the data which is Positive , Negative, Neutral ."
   ]
  },
  {
   "cell_type": "code",
   "execution_count": 5,
   "id": "965aaf10-ae55-4016-87eb-b5b488d6dc11",
   "metadata": {},
   "outputs": [
    {
     "name": "stdout",
     "output_type": "stream",
     "text": [
      "Overall Sentiment Summary:\n",
      "sentiment\n",
      "positive    6219\n",
      "negative    5155\n",
      "neutral     3266\n",
      "Name: count, dtype: int64\n"
     ]
    }
   ],
   "source": [
    "overall_sentiment = df['sentiment'].value_counts()\n",
    "print(\"Overall Sentiment Summary:\")\n",
    "print(overall_sentiment)\n"
   ]
  },
  {
   "cell_type": "code",
   "execution_count": null,
   "id": "3ac6d27c-51ab-4bc6-8bc0-b5b11c3a4b7d",
   "metadata": {},
   "outputs": [],
   "source": []
  }
 ],
 "metadata": {
  "kernelspec": {
   "display_name": "Python 3 (ipykernel)",
   "language": "python",
   "name": "python3"
  },
  "language_info": {
   "codemirror_mode": {
    "name": "ipython",
    "version": 3
   },
   "file_extension": ".py",
   "mimetype": "text/x-python",
   "name": "python",
   "nbconvert_exporter": "python",
   "pygments_lexer": "ipython3",
   "version": "3.11.3"
  }
 },
 "nbformat": 4,
 "nbformat_minor": 5
}
